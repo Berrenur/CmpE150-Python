{
 "cells": [
  {
   "cell_type": "markdown",
   "id": "23b40324",
   "metadata": {},
   "source": [
    "## [Widely used Python libraries: Numpy and Pandas](https://www.codecademy.com/articles/introduction-to-numpy-and-pandas)\n",
    "\n",
    "### NumPy\n",
    "\n",
    "- Open source library for efficient numerical operations\n",
    "- The core structure: ndarray (arrays of any dimensions)\n",
    "- The library provides many features for performing operations on these special arrays.\n",
    "\n",
    "### Pandas\n",
    "\n",
    "- Library for data manipulation\n",
    "- The core structure: Series and DataFrame objects (based on NumPy array structure)\n",
    "\n"
   ]
  },
  {
   "cell_type": "markdown",
   "id": "4daf0ed6",
   "metadata": {},
   "source": [
    "Once these libraries are installed, their features can be used. First, the libraries must be imported as follows:"
   ]
  },
  {
   "cell_type": "code",
   "execution_count": 2,
   "id": "d2ae69e8",
   "metadata": {},
   "outputs": [],
   "source": [
    "import numpy as np\n",
    "import pandas as pd"
   ]
  },
  {
   "cell_type": "markdown",
   "id": "69bb0f63",
   "metadata": {},
   "source": [
    "**as** keyword is used to create an alias. From now on, we can refer to numpy as np and pandas as pd. "
   ]
  },
  {
   "cell_type": "markdown",
   "id": "819b8b5a",
   "metadata": {},
   "source": [
    "### NumPy arrays\n",
    "\n",
    "* NumPy arrays are more efficient\n",
    "* NumPy arrays support element-wise operations\n",
    "* All elements must be of the same data type. (Python lists might have elements of mixed types)\n",
    "\n",
    "The code initializes a Python list named list1:"
   ]
  },
  {
   "cell_type": "code",
   "execution_count": 4,
   "id": "68e4b115",
   "metadata": {},
   "outputs": [],
   "source": [
    "list1 = [1,2,3,4]"
   ]
  },
  {
   "cell_type": "markdown",
   "id": "1b2715a3",
   "metadata": {},
   "source": [
    "A list can be converted into a numpy array using np.array() function: "
   ]
  },
  {
   "cell_type": "code",
   "execution_count": 6,
   "id": "3900968b",
   "metadata": {},
   "outputs": [
    {
     "data": {
      "text/plain": [
       "array([1, 2, 3, 4])"
      ]
     },
     "execution_count": 6,
     "metadata": {},
     "output_type": "execute_result"
    }
   ],
   "source": [
    "array1 = np.array(list1)\n",
    "array1"
   ]
  },
  {
   "cell_type": "markdown",
   "id": "af3d0da1",
   "metadata": {},
   "source": [
    "The above array contains one row and four columns. We will create a two dimensional array from list of lists below: "
   ]
  },
  {
   "cell_type": "code",
   "execution_count": 7,
   "id": "2efee4fb",
   "metadata": {},
   "outputs": [
    {
     "data": {
      "text/plain": [
       "array([[1, 2, 3],\n",
       "       [4, 5, 6]])"
      ]
     },
     "execution_count": 7,
     "metadata": {},
     "output_type": "execute_result"
    }
   ],
   "source": [
    "list2 = [[1,2,3],[4,5,6]]\n",
    "array2 = np.array(list2)\n",
    "array2"
   ]
  },
  {
   "cell_type": "markdown",
   "id": "1ff57e52",
   "metadata": {},
   "source": [
    "The operations supported by NumPy which are beneficial for data manipulation:\n",
    "\n",
    "* Selecting array elements\n",
    "\n",
    "*  Slicing arrays\n",
    "\n",
    "* Reshaping arrays\n",
    "\n",
    "* Splitting arrays\n",
    "\n",
    "* Combining arrays\n",
    "\n",
    "* Numerical operations (min, max, mean, etc)"
   ]
  },
  {
   "cell_type": "markdown",
   "id": "e99359f5",
   "metadata": {},
   "source": [
    "The operations can be executed on all the elements rather than individual elements:"
   ]
  },
  {
   "cell_type": "code",
   "execution_count": 21,
   "id": "8f783c4d",
   "metadata": {},
   "outputs": [
    {
     "data": {
      "text/plain": [
       "array([3, 6, 1, 4])"
      ]
     },
     "execution_count": 21,
     "metadata": {},
     "output_type": "execute_result"
    }
   ],
   "source": [
    "toyPrices = np.array([5,8,3,6])\n",
    "toyPrices - 2"
   ]
  },
  {
   "cell_type": "code",
   "execution_count": 22,
   "id": "e243b683",
   "metadata": {},
   "outputs": [
    {
     "data": {
      "text/plain": [
       "array([25, 64,  9, 36], dtype=int32)"
      ]
     },
     "execution_count": 22,
     "metadata": {},
     "output_type": "execute_result"
    }
   ],
   "source": [
    "toyPrices ** 2"
   ]
  },
  {
   "cell_type": "code",
   "execution_count": 23,
   "id": "ce1a23ad",
   "metadata": {},
   "outputs": [
    {
     "data": {
      "text/plain": [
       "[3, 6, 1, 4]"
      ]
     },
     "execution_count": 23,
     "metadata": {},
     "output_type": "execute_result"
    }
   ],
   "source": [
    "toyPrices = [5,8,3,6]\n",
    "# print(toyPrices - 2) -- Not possible. Causes an error\n",
    "for i in range(len(toyPrices)):\n",
    "    toyPrices[i] -= 2\n",
    "toyPrices"
   ]
  },
  {
   "cell_type": "code",
   "execution_count": 14,
   "id": "ae8d7412",
   "metadata": {},
   "outputs": [
    {
     "data": {
      "text/plain": [
       "(2, 3)"
      ]
     },
     "execution_count": 14,
     "metadata": {},
     "output_type": "execute_result"
    }
   ],
   "source": [
    "array3 = np.array([[1,2,3], [4,5,6]])\n",
    "array3.shape"
   ]
  },
  {
   "cell_type": "markdown",
   "id": "e4789fde",
   "metadata": {},
   "source": [
    "#### Indexing"
   ]
  },
  {
   "cell_type": "code",
   "execution_count": 15,
   "id": "3fbcd94c",
   "metadata": {},
   "outputs": [
    {
     "data": {
      "text/plain": [
       "6"
      ]
     },
     "execution_count": 15,
     "metadata": {},
     "output_type": "execute_result"
    }
   ],
   "source": [
    "array3[1, 2]"
   ]
  },
  {
   "cell_type": "markdown",
   "id": "b629c1c5",
   "metadata": {},
   "source": [
    "####  Slicing"
   ]
  },
  {
   "cell_type": "code",
   "execution_count": 16,
   "id": "ca83c730",
   "metadata": {},
   "outputs": [
    {
     "data": {
      "text/plain": [
       "array([[4, 5, 6]])"
      ]
     },
     "execution_count": 16,
     "metadata": {},
     "output_type": "execute_result"
    }
   ],
   "source": [
    "array3[1:]"
   ]
  },
  {
   "cell_type": "code",
   "execution_count": 20,
   "id": "7e8ee2a8",
   "metadata": {},
   "outputs": [
    {
     "data": {
      "text/plain": [
       "array([[False,  True, False],\n",
       "       [ True, False,  True]])"
      ]
     },
     "execution_count": 20,
     "metadata": {},
     "output_type": "execute_result"
    }
   ],
   "source": [
    "array3 % 2 == 0"
   ]
  },
  {
   "cell_type": "code",
   "execution_count": 19,
   "id": "6733771e",
   "metadata": {},
   "outputs": [
    {
     "data": {
      "text/plain": [
       "array([2, 4, 6])"
      ]
     },
     "execution_count": 19,
     "metadata": {},
     "output_type": "execute_result"
    }
   ],
   "source": [
    "array3[array3 % 2 == 0]"
   ]
  },
  {
   "cell_type": "markdown",
   "id": "ecaf7482",
   "metadata": {},
   "source": [
    "## Pandas\n",
    "\n",
    "* Series and DataFrame are the core objects of this library. \n",
    "* Series is the one-dimensional NumPy array which can be indexed using labels rather than integers. \n",
    "* A Series could store items of one data type and can created with scalars, lists, dictionaries, etc. "
   ]
  },
  {
   "cell_type": "code",
   "execution_count": 25,
   "id": "034131ba",
   "metadata": {},
   "outputs": [
    {
     "data": {
      "text/plain": [
       "0    13\n",
       "1    25\n",
       "2    19\n",
       "dtype: int32"
      ]
     },
     "execution_count": 25,
     "metadata": {},
     "output_type": "execute_result"
    }
   ],
   "source": [
    "ages = np.array([13,25,19])\n",
    "series1 = pd.Series(ages)\n",
    "series1"
   ]
  },
  {
   "cell_type": "markdown",
   "id": "df819540",
   "metadata": {},
   "source": [
    "By default, the indices are integers however they can be customized:"
   ]
  },
  {
   "cell_type": "code",
   "execution_count": 26,
   "id": "60eb6dc8",
   "metadata": {},
   "outputs": [
    {
     "data": {
      "text/plain": [
       "Emma      13\n",
       "Swetha    25\n",
       "Serajh    19\n",
       "dtype: int32"
      ]
     },
     "execution_count": 26,
     "metadata": {},
     "output_type": "execute_result"
    }
   ],
   "source": [
    "ages = np.array([13,25,19])\n",
    "series1 = pd.Series(ages, index=['Emma', 'Swetha', 'Serajh'])\n",
    "series1"
   ]
  },
  {
   "cell_type": "code",
   "execution_count": 27,
   "id": "c1ce9644",
   "metadata": {},
   "outputs": [
    {
     "data": {
      "text/plain": [
       "Emma      13\n",
       "Swetha    25\n",
       "Serajh    19\n",
       "dtype: int64"
      ]
     },
     "execution_count": 27,
     "metadata": {},
     "output_type": "execute_result"
    }
   ],
   "source": [
    "series1 = pd.Series({'Emma': 13, 'Swetha': 25, 'Serajh': 19})\n",
    "series1"
   ]
  },
  {
   "cell_type": "markdown",
   "id": "335dc587",
   "metadata": {},
   "source": [
    "* DataFrame is the other core object in the library. It contains rows and columns and both can be indexed with labels. \n",
    "* A DataFrame is the collection of Series (which are the columns). All columns must have the length. \n",
    "* A DataFrame can be composed of columns of different data types, however the values within the columns must have of the same type. \n",
    "\n",
    "DataFrames can be created from lists, dictionaries or read from csv and excel files. "
   ]
  },
  {
   "cell_type": "code",
   "execution_count": 30,
   "id": "61b3ad82",
   "metadata": {},
   "outputs": [
    {
     "data": {
      "text/html": [
       "<div>\n",
       "<style scoped>\n",
       "    .dataframe tbody tr th:only-of-type {\n",
       "        vertical-align: middle;\n",
       "    }\n",
       "\n",
       "    .dataframe tbody tr th {\n",
       "        vertical-align: top;\n",
       "    }\n",
       "\n",
       "    .dataframe thead th {\n",
       "        text-align: right;\n",
       "    }\n",
       "</style>\n",
       "<table border=\"1\" class=\"dataframe\">\n",
       "  <thead>\n",
       "    <tr style=\"text-align: right;\">\n",
       "      <th></th>\n",
       "      <th>name</th>\n",
       "      <th>address</th>\n",
       "      <th>age</th>\n",
       "    </tr>\n",
       "  </thead>\n",
       "  <tbody>\n",
       "    <tr>\n",
       "      <th>0</th>\n",
       "      <td>John Smith</td>\n",
       "      <td>123 Main St</td>\n",
       "      <td>34</td>\n",
       "    </tr>\n",
       "    <tr>\n",
       "      <th>1</th>\n",
       "      <td>Jane Doe</td>\n",
       "      <td>456 Maple Ave</td>\n",
       "      <td>28</td>\n",
       "    </tr>\n",
       "    <tr>\n",
       "      <th>2</th>\n",
       "      <td>Joe Schmo</td>\n",
       "      <td>789 Broadway</td>\n",
       "      <td>51</td>\n",
       "    </tr>\n",
       "  </tbody>\n",
       "</table>\n",
       "</div>"
      ],
      "text/plain": [
       "         name        address  age\n",
       "0  John Smith    123 Main St   34\n",
       "1    Jane Doe  456 Maple Ave   28\n",
       "2   Joe Schmo   789 Broadway   51"
      ]
     },
     "execution_count": 30,
     "metadata": {},
     "output_type": "execute_result"
    }
   ],
   "source": [
    "data = pd.DataFrame([\n",
    "    ['John Smith','123 Main St',34],\n",
    "    ['Jane Doe', '456 Maple Ave',28],\n",
    "    ['Joe Schmo', '789 Broadway',51]\n",
    "    ],\n",
    "    columns=['name','address','age'])\n",
    "data"
   ]
  },
  {
   "cell_type": "code",
   "execution_count": 31,
   "id": "11ae58be",
   "metadata": {},
   "outputs": [
    {
     "data": {
      "text/plain": [
       "(3, 3)"
      ]
     },
     "execution_count": 31,
     "metadata": {},
     "output_type": "execute_result"
    }
   ],
   "source": [
    "data.shape"
   ]
  },
  {
   "cell_type": "code",
   "execution_count": 32,
   "id": "8d2927b1",
   "metadata": {},
   "outputs": [
    {
     "data": {
      "text/html": [
       "<div>\n",
       "<style scoped>\n",
       "    .dataframe tbody tr th:only-of-type {\n",
       "        vertical-align: middle;\n",
       "    }\n",
       "\n",
       "    .dataframe tbody tr th {\n",
       "        vertical-align: top;\n",
       "    }\n",
       "\n",
       "    .dataframe thead th {\n",
       "        text-align: right;\n",
       "    }\n",
       "</style>\n",
       "<table border=\"1\" class=\"dataframe\">\n",
       "  <thead>\n",
       "    <tr style=\"text-align: right;\">\n",
       "      <th></th>\n",
       "      <th>age</th>\n",
       "    </tr>\n",
       "  </thead>\n",
       "  <tbody>\n",
       "    <tr>\n",
       "      <th>count</th>\n",
       "      <td>3.000000</td>\n",
       "    </tr>\n",
       "    <tr>\n",
       "      <th>mean</th>\n",
       "      <td>37.666667</td>\n",
       "    </tr>\n",
       "    <tr>\n",
       "      <th>std</th>\n",
       "      <td>11.930353</td>\n",
       "    </tr>\n",
       "    <tr>\n",
       "      <th>min</th>\n",
       "      <td>28.000000</td>\n",
       "    </tr>\n",
       "    <tr>\n",
       "      <th>25%</th>\n",
       "      <td>31.000000</td>\n",
       "    </tr>\n",
       "    <tr>\n",
       "      <th>50%</th>\n",
       "      <td>34.000000</td>\n",
       "    </tr>\n",
       "    <tr>\n",
       "      <th>75%</th>\n",
       "      <td>42.500000</td>\n",
       "    </tr>\n",
       "    <tr>\n",
       "      <th>max</th>\n",
       "      <td>51.000000</td>\n",
       "    </tr>\n",
       "  </tbody>\n",
       "</table>\n",
       "</div>"
      ],
      "text/plain": [
       "             age\n",
       "count   3.000000\n",
       "mean   37.666667\n",
       "std    11.930353\n",
       "min    28.000000\n",
       "25%    31.000000\n",
       "50%    34.000000\n",
       "75%    42.500000\n",
       "max    51.000000"
      ]
     },
     "execution_count": 32,
     "metadata": {},
     "output_type": "execute_result"
    }
   ],
   "source": [
    "data.describe()"
   ]
  },
  {
   "cell_type": "markdown",
   "id": "7e33b2f8",
   "metadata": {},
   "source": [
    "By default, the row indices are integers. However, we can set a column to be the index of the frame."
   ]
  },
  {
   "cell_type": "code",
   "execution_count": 34,
   "id": "5f99b294",
   "metadata": {},
   "outputs": [
    {
     "data": {
      "text/html": [
       "<div>\n",
       "<style scoped>\n",
       "    .dataframe tbody tr th:only-of-type {\n",
       "        vertical-align: middle;\n",
       "    }\n",
       "\n",
       "    .dataframe tbody tr th {\n",
       "        vertical-align: top;\n",
       "    }\n",
       "\n",
       "    .dataframe thead th {\n",
       "        text-align: right;\n",
       "    }\n",
       "</style>\n",
       "<table border=\"1\" class=\"dataframe\">\n",
       "  <thead>\n",
       "    <tr style=\"text-align: right;\">\n",
       "      <th></th>\n",
       "      <th>address</th>\n",
       "      <th>age</th>\n",
       "    </tr>\n",
       "    <tr>\n",
       "      <th>name</th>\n",
       "      <th></th>\n",
       "      <th></th>\n",
       "    </tr>\n",
       "  </thead>\n",
       "  <tbody>\n",
       "    <tr>\n",
       "      <th>John Smith</th>\n",
       "      <td>123 Main St</td>\n",
       "      <td>34</td>\n",
       "    </tr>\n",
       "    <tr>\n",
       "      <th>Jane Doe</th>\n",
       "      <td>456 Maple Ave</td>\n",
       "      <td>28</td>\n",
       "    </tr>\n",
       "    <tr>\n",
       "      <th>Joe Schmo</th>\n",
       "      <td>789 Broadway</td>\n",
       "      <td>51</td>\n",
       "    </tr>\n",
       "  </tbody>\n",
       "</table>\n",
       "</div>"
      ],
      "text/plain": [
       "                  address  age\n",
       "name                          \n",
       "John Smith    123 Main St   34\n",
       "Jane Doe    456 Maple Ave   28\n",
       "Joe Schmo    789 Broadway   51"
      ]
     },
     "execution_count": 34,
     "metadata": {},
     "output_type": "execute_result"
    }
   ],
   "source": [
    "data.set_index('name')"
   ]
  },
  {
   "cell_type": "markdown",
   "id": "c3b97665",
   "metadata": {},
   "source": [
    "NumPy and Pandas \n",
    "* facilitate mathematical and logical operations \n",
    "* make data manipulation and exploration easier"
   ]
  },
  {
   "cell_type": "markdown",
   "id": "0fa52b47",
   "metadata": {},
   "source": [
    "# References\n",
    "* https://www.codecademy.com/articles/introduction-to-numpy-and-pandas"
   ]
  }
 ],
 "metadata": {
  "kernelspec": {
   "display_name": "Python 3",
   "language": "python",
   "name": "python3"
  },
  "language_info": {
   "codemirror_mode": {
    "name": "ipython",
    "version": 3
   },
   "file_extension": ".py",
   "mimetype": "text/x-python",
   "name": "python",
   "nbconvert_exporter": "python",
   "pygments_lexer": "ipython3",
   "version": "3.8.0"
  }
 },
 "nbformat": 4,
 "nbformat_minor": 5
}
